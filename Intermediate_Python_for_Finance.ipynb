{
  "nbformat": 4,
  "nbformat_minor": 0,
  "metadata": {
    "colab": {
      "name": "Intermediate Python for Finance.ipynb",
      "provenance": [],
      "collapsed_sections": [],
      "authorship_tag": "ABX9TyOwnBGayouf0ZkRBmBlLC5H",
      "include_colab_link": true
    },
    "kernelspec": {
      "name": "python3",
      "display_name": "Python 3"
    }
  },
  "cells": [
    {
      "cell_type": "markdown",
      "metadata": {
        "id": "view-in-github",
        "colab_type": "text"
      },
      "source": [
        "<a href=\"https://colab.research.google.com/github/hejiang2/datacamp-courses/blob/master/Intermediate_Python_for_Finance.ipynb\" target=\"_parent\"><img src=\"https://colab.research.google.com/assets/colab-badge.svg\" alt=\"Open In Colab\"/></a>"
      ]
    },
    {
      "cell_type": "markdown",
      "metadata": {
        "id": "LBsF7-R9k1K3",
        "colab_type": "text"
      },
      "source": [
        "## Datetimes and Dictionaries\n",
        "\n",
        "Imagine that as a financial analyst, you are trying to understand the history of market crashes. In order to represent crashes in your code, you want to represent the times that they occurred. Two significant market crashes are the Kennedy Slide, also known as the Flash Crash, which started May 28, 1962, and the Black Monday crash of October 19th, 1987."
      ]
    },
    {
      "cell_type": "code",
      "metadata": {
        "id": "HTW45Kix4ZzP",
        "colab_type": "code",
        "colab": {
          "base_uri": "https://localhost:8080/",
          "height": 68
        },
        "outputId": "b3f119fe-21c4-449b-9262-fd3806602e3f"
      },
      "source": [
        "import datetime\n",
        "\n",
        "# Date and time now\n",
        "now = datetime.datetime.now()\n",
        "print(now)\n",
        "\n",
        "# Flash crash May 28, 1962\n",
        "flash_crash = datetime.datetime(1962, 5, 28)\n",
        "print(flash_crash)\n",
        "\n",
        "# Black Monday Oct 19, 1987\n",
        "black_monday = datetime.datetime(1987, 10, 19)\n",
        "print(black_monday)"
      ],
      "execution_count": null,
      "outputs": [
        {
          "output_type": "stream",
          "text": [
            "2020-08-19 16:37:20.922042\n",
            "1962-05-28 00:00:00\n",
            "1987-10-19 00:00:00\n"
          ],
          "name": "stdout"
        }
      ]
    },
    {
      "cell_type": "markdown",
      "metadata": {
        "id": "NPyj9OqqlOv0",
        "colab_type": "text"
      },
      "source": [
        "Often you get dates in different formats. There are many different sources of data that represent dates as strings. Scraping web pages, user input, and text files are just a few. The format strings for mapping datetimes are can be found at strftime. Suppose that you have found dates for the mini-crash of October 1989, given as the string crash_text, and the recession of 1990, given as the string recession_text, in different formats. How would you represent both in your Python code?"
      ]
    },
    {
      "cell_type": "code",
      "metadata": {
        "id": "67Oa70SClVRy",
        "colab_type": "code",
        "colab": {
          "base_uri": "https://localhost:8080/",
          "height": 51
        },
        "outputId": "2c62ce9e-95b2-40b2-fd81-d0d6ff0d694c"
      },
      "source": [
        "crash_text = \"Friday the 13th, Oct, 1989\"\n",
        "\n",
        "# Create a format string mapping the text\n",
        "crash_format_str = \"%A the %dth, %b, %Y\"\n",
        "min_crash = datetime.datetime.strptime(crash_text, crash_format_str)\n",
        "print(min_crash)\n",
        "\n",
        "recession_text = \"07/03/90\"\n",
        "\n",
        "# Create format string\n",
        "recession_format_str = \"%m/%d/%y\"\n",
        "\n",
        "# Create datetime from text using format string\n",
        "nineties_rec = datetime.datetime.strptime(recession_text, recession_format_str)\n",
        "print(nineties_rec)"
      ],
      "execution_count": null,
      "outputs": [
        {
          "output_type": "stream",
          "text": [
            "1989-10-13 00:00:00\n",
            "1990-07-03 00:00:00\n"
          ],
          "name": "stdout"
        }
      ]
    },
    {
      "cell_type": "markdown",
      "metadata": {
        "id": "TWqmTqSHlcrJ",
        "colab_type": "text"
      },
      "source": [
        "With datetimes, you can read a string with one format and output a string with a different format. This means that you can use datetimes to change the format of string dates. The format strings for mapping datetimes are can be found at strftime. Let's say you are asked to process the date of the British Black Wednesday crash into a new format that fits the reporting needs of your company."
      ]
    },
    {
      "cell_type": "code",
      "metadata": {
        "id": "9Bajo27TldP_",
        "colab_type": "code",
        "colab": {
          "base_uri": "https://localhost:8080/",
          "height": 51
        },
        "outputId": "251ca831-e00a-47dc-d80f-410e1bd55309"
      },
      "source": [
        "org_text = \"Sep 16 1992\"\n",
        "\n",
        "# Format string for original text\n",
        "org_format = \"%b %d %Y\"\n",
        "\n",
        "# Create datetime for Black Wednesday\n",
        "black_wednesday = datetime.datetime.strptime(org_text, org_format)\n",
        "print(black_wednesday)\n",
        "\n",
        "# New format: 'Wednesday, September 16, 1992'\n",
        "new_format = \"%A, %B %d, %Y\"\n",
        "\n",
        "# String in new format\n",
        "new_text = black_wednesday.strftime(new_format)\n",
        "print(new_text)"
      ],
      "execution_count": null,
      "outputs": [
        {
          "output_type": "stream",
          "text": [
            "1992-09-16 00:00:00\n",
            "Wednesday, September 16, 1992\n"
          ],
          "name": "stdout"
        }
      ]
    },
    {
      "cell_type": "markdown",
      "metadata": {
        "id": "FzHdDSvsrgcS",
        "colab_type": "text"
      },
      "source": [
        "Suppose you are analyzing the tech bubble crash of 2000. For the sake of reporting, you need to assign the year, month, and day values to variables.\n",
        "\n",
        "Use the attributes of a datetime object to assign the correct values to these variables."
      ]
    },
    {
      "cell_type": "code",
      "metadata": {
        "id": "aqSj6N3Krg9q",
        "colab_type": "code",
        "colab": {}
      },
      "source": [
        "from datetime import datetime\n",
        "\n",
        "# March 10, 2000 Tech Bubble Crash\n",
        "tech_bubble = datetime(2000, 3, 10)\n",
        "\n",
        "# Access the year\n",
        "yr  = tech_bubble.year\n",
        "\n",
        "# Access the month\n",
        "mth = tech_bubble.month\n",
        "\n",
        "# Access the day\n",
        "day = tech_bubble.day"
      ],
      "execution_count": null,
      "outputs": []
    },
    {
      "cell_type": "markdown",
      "metadata": {
        "id": "Yh34jmDWsY6E",
        "colab_type": "text"
      },
      "source": [
        "The Troubled Asset Relief Program (TARP) was passed in October of 2008 in an attempt to stablize the US financial system during the crisis of 2007-2008. To investigate the state of markets before and after the passage of TARP, you wish to create some datetimes for times before and after."
      ]
    },
    {
      "cell_type": "code",
      "metadata": {
        "id": "XPg9jOgzrsZy",
        "colab_type": "code",
        "colab": {
          "base_uri": "https://localhost:8080/",
          "height": 68
        },
        "outputId": "38d7d221-a7cc-4e10-b922-ce6ca1141390"
      },
      "source": [
        "from datetime import datetime, timedelta\n",
        "# TARP passed Oct 3 2008\n",
        "tarp = datetime(2008, 10, 3)\n",
        "\n",
        "# Seven days before TARP\n",
        "week_before = tarp - timedelta(days = 7)\n",
        "\n",
        "# Print week_before\n",
        "print(week_before)\n",
        "\n",
        "# One week after TARP\n",
        "week_after = tarp + timedelta(weeks = 1)\n",
        "\n",
        "# Print week_after\n",
        "print(week_after)\n",
        "\n",
        "# One year after TARP\n",
        "year_after = tarp + timedelta(weeks = 52)\n",
        "\n",
        "# Print year_after\n",
        "print(year_after)"
      ],
      "execution_count": null,
      "outputs": [
        {
          "output_type": "stream",
          "text": [
            "2008-09-26 00:00:00\n",
            "2008-10-10 00:00:00\n",
            "2009-10-02 00:00:00\n"
          ],
          "name": "stdout"
        }
      ]
    },
    {
      "cell_type": "markdown",
      "metadata": {
        "id": "d0CTgaqDt7IC",
        "colab_type": "text"
      },
      "source": [
        "The CUSIP number is a nine-digit alphanumeric number used to identify most securities owned by American and Canadian companies. Let's suppose that in your work at a FinTech startup, you are tasked with writing reports for clients. Your internal reports use CUSIP numbers, but your clients need to see stock symbols. Create a mapping of CUSIP numbers to stock symbols that makes it easy to do lookups. A dictionary is an ideal data structure for this kind of mapping as it lets you do fast lookups based on a key-value (the CUSIP number in this case)."
      ]
    },
    {
      "cell_type": "code",
      "metadata": {
        "id": "ZjCn5Q3SsX4N",
        "colab_type": "code",
        "colab": {
          "base_uri": "https://localhost:8080/",
          "height": 52
        },
        "outputId": "d95fdc97-d17d-4987-a586-21f810b06dbc"
      },
      "source": [
        "cusip_lookup = {}\n",
        "\n",
        "# Alphabet\n",
        "cusip_lookup['38259P706'] = 'GOOG'\n",
        "\n",
        "# Apple\n",
        "cusip_lookup['037833100'] = 'AAPL'\n",
        "\n",
        "print(cusip_lookup)\n",
        "\n",
        "# Lookup Apple\n",
        "cusip_lookup['037833100']"
      ],
      "execution_count": null,
      "outputs": [
        {
          "output_type": "stream",
          "text": [
            "{'38259P706': 'GOOG', '037833100': 'AAPL'}\n"
          ],
          "name": "stdout"
        },
        {
          "output_type": "execute_result",
          "data": {
            "application/vnd.google.colaboratory.intrinsic+json": {
              "type": "string"
            },
            "text/plain": [
              "'AAPL'"
            ]
          },
          "metadata": {
            "tags": []
          },
          "execution_count": 8
        }
      ]
    },
    {
      "cell_type": "markdown",
      "metadata": {
        "id": "VVIToRrot7CB",
        "colab_type": "text"
      },
      "source": [
        "## Pandas Dataframe\n",
        "\n",
        "A security position is a record of ownership that includes the purchase price and date. This information is necessary if you want to calculate how much profit was made on a stock. You can have multiple positions of the same stock, if you purchase it multiple times. Use these positions of Apple stock to create DataFrames in this exercise:\n",
        "\n",
        "| Sym\t| Price\t| Date |\n",
        "|-----|-------|------|\n",
        "| APPL | 105.00\t| 2015 / 12 / 31 |\n",
        "| APPL | 117.05 |\t2017 / 12 / 01 |\n",
        "| APPL | 289.80\t| 2019 / 12 / 27 |\n"
      ]
    },
    {
      "cell_type": "code",
      "metadata": {
        "id": "L35-c9SAsW1l",
        "colab_type": "code",
        "colab": {
          "base_uri": "https://localhost:8080/",
          "height": 221
        },
        "outputId": "349a2918-e30b-439f-bbd8-c6786c0b083f"
      },
      "source": [
        "import pandas as pd\n",
        "# Create dict holding the data\n",
        "data = {'Sym': ['APPL', 'APPL', 'APPL'],\n",
        "        'Price': [105.00, 117.05, 289.80],\n",
        "        'Date': ['2015/12/31', '2017/12/01', '2019/12/27']}\n",
        "\n",
        "# Create DataFrame from the data\n",
        "positions = pd.DataFrame(data=data)\n",
        "print(positions)\n",
        "\n",
        "# Make list of dictionaries\n",
        "data = [{'Sym': 'APPL', 'Price': 105.00, 'Date': '2015/12/31'},\n",
        "        {'Sym': 'APPL', 'Price': 117.05, 'Date': '2017/12/01'},\n",
        "        {'Sym': 'APPL', 'Price': 289.80, 'Date': '2019/12/27'}]\n",
        "\n",
        "# Create DataFrame from the list\n",
        "positions = pd.DataFrame(data=data)\n",
        "print(positions)\n",
        "\n",
        "# Create a list of lists\n",
        "data = [['APPL', 105.00, '2015/12/31'],\n",
        "        ['APPL', 117.05, '2017/12/01'],\n",
        "        ['APPL', 289.80, '2019/12/27']]\n",
        "\n",
        "# Define the column names\n",
        "columns = ['Sym', 'Price', 'Date']\n",
        "\n",
        "# Create a DataFrame with the data and column names\n",
        "df = pd.DataFrame(data=data, columns=columns)\n",
        "print(df)"
      ],
      "execution_count": null,
      "outputs": [
        {
          "output_type": "stream",
          "text": [
            "    Sym   Price        Date\n",
            "0  APPL  105.00  2015/12/31\n",
            "1  APPL  117.05  2017/12/01\n",
            "2  APPL  289.80  2019/12/27\n",
            "    Sym   Price        Date\n",
            "0  APPL  105.00  2015/12/31\n",
            "1  APPL  117.05  2017/12/01\n",
            "2  APPL  289.80  2019/12/27\n",
            "    Sym   Price        Date\n",
            "0  APPL  105.00  2015/12/31\n",
            "1  APPL  117.05  2017/12/01\n",
            "2  APPL  289.80  2019/12/27\n"
          ],
          "name": "stdout"
        }
      ]
    }
  ]
}