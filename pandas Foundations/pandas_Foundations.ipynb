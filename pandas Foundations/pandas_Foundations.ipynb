{
  "nbformat": 4,
  "nbformat_minor": 0,
  "metadata": {
    "colab": {
      "name": "pandas Foundations.ipynb",
      "provenance": [],
      "collapsed_sections": [],
      "authorship_tag": "ABX9TyO/V2oMjIHDoN/tz4sanGA6",
      "include_colab_link": true
    },
    "kernelspec": {
      "name": "python3",
      "display_name": "Python 3"
    }
  },
  "cells": [
    {
      "cell_type": "markdown",
      "metadata": {
        "id": "view-in-github",
        "colab_type": "text"
      },
      "source": [
        "<a href=\"https://colab.research.google.com/github/hejiang2/datacamp-courses/blob/master/pandas_Foundations.ipynb\" target=\"_parent\"><img src=\"https://colab.research.google.com/assets/colab-badge.svg\" alt=\"Open In Colab\"/></a>"
      ]
    },
    {
      "cell_type": "code",
      "metadata": {
        "id": "MS3la4Z97Uy8",
        "colab_type": "code",
        "colab": {
          "base_uri": "https://localhost:8080/",
          "height": 313
        },
        "outputId": "a1bcfa9c-9285-4045-d8c1-06a07c8211d5"
      },
      "source": [
        "url = \"https://raw.githubusercontent.com/hejiang2/datacamp-courses/master/pandas%20Foundations/percent-bachelors-degrees-women-usa.csv\"\n",
        "import pandas as pd\n",
        "import matplotlib.pyplot as plt\n",
        "df = pd.read_csv(url, index_col=0)\n",
        "# Print the minimum value of the Engineering column\n",
        "print(df.Engineering.min())\n",
        "\n",
        "# Print the maximum value of the Engineering column\n",
        "print(df.Engineering.max())\n",
        "\n",
        "# Construct the mean percentage per year: mean\n",
        "mean = df.mean(axis='columns')\n",
        "\n",
        "# Plot the average percentage per year\n",
        "mean.plot()\n",
        "\n",
        "# Display the plot\n",
        "plt.show()"
      ],
      "execution_count": 1,
      "outputs": [
        {
          "output_type": "stream",
          "text": [
            "0.8\n",
            "19.0\n"
          ],
          "name": "stdout"
        },
        {
          "output_type": "display_data",
          "data": {
            "image/png": "[encoded data removed]",
            "text/plain": [
              "<Figure size 432x288 with 1 Axes>"
            ]
          },
          "metadata": {
            "tags": [],
            "needs_background": "light"
          }
        }
      ]
    },
    {
      "cell_type": "code",
      "metadata": {
        "id": "5-kudf9c7oYS",
        "colab_type": "code",
        "colab": {
          "base_uri": "https://localhost:8080/",
          "height": 265
        },
        "outputId": "cc047d49-be95-4f10-9661-9034d4de18f0"
      },
      "source": [
        "url = 'https://raw.githubusercontent.com/hejiang2/datacamp-courses/master/pandas%20Foundations/titanic.csv'\n",
        "titanic = pd.read_csv(url)\n",
        "# Display the box plots on 3 separate rows and 1 column\n",
        "fig, axes = plt.subplots(nrows=3, ncols=1)\n",
        "\n",
        "# Generate a box plot of the fare prices for the First passenger class\n",
        "titanic.loc[titanic['pclass'] == 1].plot(ax=axes[0], y='fare', kind='box')\n",
        "\n",
        "# Generate a box plot of the fare prices for the Second passenger class\n",
        "titanic.loc[titanic['pclass'] == 2].plot(ax=axes[1], y='fare', kind='box')\n",
        "\n",
        "# Generate a box plot of the fare prices for the Third passenger class\n",
        "titanic.loc[titanic['pclass'] == 3].plot(ax=axes[2], y='fare', kind='box')\n",
        "\n",
        "# Display the plot\n",
        "plt.show()"
      ],
      "execution_count": 2,
      "outputs": [
        {
          "output_type": "display_data",
          "data": {
            "image/png": "[encoded data removed]",
            "text/plain": [
              "<Figure size 432x288 with 3 Axes>"
            ]
          },
          "metadata": {
            "tags": [],
            "needs_background": "light"
          }
        }
      ]
    },
    {
      "cell_type": "code",
      "metadata": {
        "id": "ZbT1Id_8BJ4Y",
        "colab_type": "code",
        "colab": {}
      },
      "source": [
        "date_list = ['20100101 00:00',\n",
        " '20100101 01:00',\n",
        " '20100101 02:00',\n",
        " '20100101 03:00',\n",
        " '20100101 04:00',\n",
        " '20100101 05:00',\n",
        " '20100101 06:00',\n",
        " '20100101 07:00',\n",
        " '20100101 08:00',\n",
        " '20100101 09:00',\n",
        " '20100101 10:00',\n",
        " '20100101 11:00',\n",
        " '20100101 12:00',\n",
        " '20100101 13:00',\n",
        " '20100101 14:00',\n",
        " '20100101 15:00',\n",
        " '20100101 16:00',\n",
        " '20100101 17:00',\n",
        " '20100101 18:00',\n",
        " '20100101 19:00',\n",
        " '20100101 20:00',\n",
        " '20100101 21:00',\n",
        " '20100101 22:00',\n",
        " '20100101 23:00']\n",
        "temperature_list = [46.2,\n",
        " 44.6,\n",
        " 44.1,\n",
        " 43.8,\n",
        " 43.5,\n",
        " 43.0,\n",
        " 43.1,\n",
        " 42.3,\n",
        " 42.5,\n",
        " 45.9,\n",
        " 49.4,\n",
        " 52.4,\n",
        " 54.9,\n",
        " 57.1,\n",
        " 58.4,\n",
        " 59.1,\n",
        " 59.1,\n",
        " 58.0,\n",
        " 54.5,\n",
        " 51.3,\n",
        " 49.2,\n",
        " 48.1,\n",
        " 47.2,\n",
        " 46.4]\n",
        "# Prepare a format string: time_format\n",
        "time_format = '%Y-%m-%d %H:%M'\n",
        "\n",
        "# Convert date_list into a datetime object: my_datetimes\n",
        "my_datetimes = pd.to_datetime(date_list, format=time_format)  \n",
        "\n",
        "# Construct a pandas Series using temperature_list and my_datetimes: time_series\n",
        "time_series = pd.Series(temperature_list, index=my_datetimes)"
      ],
      "execution_count": 4,
      "outputs": []
    }
  ]
}
