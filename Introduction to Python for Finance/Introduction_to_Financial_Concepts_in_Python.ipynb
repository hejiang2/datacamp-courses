{
  "nbformat": 4,
  "nbformat_minor": 0,
  "metadata": {
    "colab": {
      "name": "Introduction to Financial Concepts in Python.ipynb",
      "provenance": [],
      "collapsed_sections": [],
      "authorship_tag": "ABX9TyM0Rtyo/lO2oZ3qLD99XzkI",
      "include_colab_link": true
    },
    "kernelspec": {
      "name": "python3",
      "display_name": "Python 3"
    }
  },
  "cells": [
    {
      "cell_type": "markdown",
      "metadata": {
        "id": "view-in-github",
        "colab_type": "text"
      },
      "source": [
        "<a href=\"https://colab.research.google.com/github/hejiang2/datacamp-courses/blob/master/Introduction_to_Financial_Concepts_in_Python.ipynb\" target=\"_parent\"><img src=\"https://colab.research.google.com/assets/colab-badge.svg\" alt=\"Open In Colab\"/></a>"
      ]
    },
    {
      "cell_type": "markdown",
      "metadata": {
        "id": "pL_O-mDLElWG",
        "colab_type": "text"
      },
      "source": [
        "##The Time Value of Money\n",
        "\n",
        "**Growth** and **Rate of Return** are two concepts that are ubiquitous throughout the financial world. Recall that the cumulative returns from investing $100 in an asset that grows at 5% per year, over a 2 year period can be calculated as:\n",
        "\n",
        "$$100\\times(1+0.05)^2$$\n"
      ]
    },
    {
      "cell_type": "code",
      "metadata": {
        "id": "oYl2wmkHESNC",
        "colab_type": "code",
        "colab": {
          "base_uri": "https://localhost:8080/",
          "height": 34
        },
        "outputId": "4886b36e-44ba-4ae3-effe-1ebf39881610"
      },
      "source": [
        "future_value = 100 * (1 + 0.05) ** 2\n",
        "print(\"Future Value of Investment: \" + str(round(future_value, 2)))"
      ],
      "execution_count": null,
      "outputs": [
        {
          "output_type": "stream",
          "text": [
            "Future Value of Investment: 110.25\n"
          ],
          "name": "stdout"
        }
      ]
    },
    {
      "cell_type": "markdown",
      "metadata": {
        "id": "NChYwroaGGLX",
        "colab_type": "text"
      },
      "source": [
        "As you saw in the previous exercise, both time and the rate of return are very important variables when forecasting the future value of an investment.\n",
        "\n",
        "Another important variable is the number of compounding periods, which can greatly affect compounded returns over time."
      ]
    },
    {
      "cell_type": "code",
      "metadata": {
        "id": "yqafgnGvGHKD",
        "colab_type": "code",
        "colab": {
          "base_uri": "https://localhost:8080/",
          "height": 68
        },
        "outputId": "010ecdc1-451e-4c15-bb92-acc0e57e1359"
      },
      "source": [
        "# Predefined variables\n",
        "initial_investment = 100\n",
        "growth_periods = 30\n",
        "growth_rate = 0.06\n",
        "\n",
        "# Calculate the value for the investment compounded once per year\n",
        "compound_periods_1 = 1\n",
        "investment_1 = initial_investment*(1 + growth_rate / compound_periods_1)**(compound_periods_1*growth_periods)\n",
        "print(\"Investment 1: \" + str(round(investment_1, 2)))\n",
        "\n",
        "# Calculate the value for the investment compounded quarterly\n",
        "compound_periods_2 = 4\n",
        "investment_2 = initial_investment*(1 + growth_rate / compound_periods_2)**(compound_periods_2*growth_periods)\n",
        "print(\"Investment 2: \" + str(round(investment_2, 2)))\n",
        "\n",
        "# Calculate the value for the investment compounded monthly\n",
        "compound_periods_3 = 12\n",
        "investment_3 = initial_investment*(1 + growth_rate / compound_periods_3)**(compound_periods_3*growth_periods)\n",
        "print(\"Investment 3: \" + str(round(investment_3, 2)))"
      ],
      "execution_count": null,
      "outputs": [
        {
          "output_type": "stream",
          "text": [
            "Investment 1: 574.35\n",
            "Investment 2: 596.93\n",
            "Investment 3: 602.26\n"
          ],
          "name": "stdout"
        }
      ]
    },
    {
      "cell_type": "markdown",
      "metadata": {
        "id": "b9gChRRdGuHo",
        "colab_type": "text"
      },
      "source": [
        "Unfortunately, not everything grows in value over time.\n",
        "\n",
        "In fact, many assets depreciate, or lose value over time. To simulate this, you can simply assume a negative expected rate of return.\n",
        "\n",
        "Example:\n",
        "\n",
        "Calculate the final depreciated value of an initially $10,000 car which declines in value by 3% per year for 10 years:\n",
        "\n",
        "$$10,000\\times(1+−0.03)^{10}=7,374.24$$"
      ]
    },
    {
      "cell_type": "code",
      "metadata": {
        "id": "7tWx8R6JF-1A",
        "colab_type": "code",
        "colab": {
          "base_uri": "https://localhost:8080/"
        },
        "outputId": "406c7a79-6c5d-4fc1-f908-3778cb38109d"
      },
      "source": [
        "# Calculate the future value\n",
        "initial_investment = 100\n",
        "growth_rate = -0.05\n",
        "growth_periods = 10\n",
        "future_value = initial_investment*(1 + growth_rate)**(growth_periods)\n",
        "print(\"Future value: \" + str(round(future_value, 2)))\n",
        "\n",
        "# Calculate the discount factor\n",
        "discount_factor = 1/((1 + growth_rate)**(growth_periods))\n",
        "print(\"Discount factor: \" + str(round(discount_factor, 2)))\n",
        "\n",
        "# Derive the initial value of the investment\n",
        "initial_investment_again = future_value * discount_factor\n",
        "print(\"Initial value: \" + str(round(initial_investment_again, 2)))"
      ],
      "execution_count": null,
      "outputs": [
        {
          "output_type": "stream",
          "text": [
            "Future value: 59.87\n",
            "Discount factor: 1.67\n",
            "Initial value: 100.0\n"
          ],
          "name": "stdout"
        }
      ]
    },
    {
      "cell_type": "markdown",
      "metadata": {
        "id": "4A-jvBdKX26z",
        "colab_type": "text"
      },
      "source": [
        "Luckily for you, there is a module called numpy which contains many functions which will make your life much easier when working with financial values.\n",
        "\n",
        "The .pv(rate, nper, pmt, fv) function, for example, allows you to calculate the present value of an investment as before with a few simple parameters:\n",
        "\n",
        "* rate: The rate of return of the investment\n",
        "* nper: The lifespan of the investment\n",
        "* pmt: The (fixed) payment at the beginning or end of each period (which is 0 in our example)\n",
        "* fv: The future value of the investment\n",
        "\n",
        "You can use this formula in many ways. For example, you can calculate the present value of future investments in today's dollars."
      ]
    },
    {
      "cell_type": "code",
      "metadata": {
        "id": "zByY9iKWYI_7",
        "colab_type": "code",
        "colab": {
          "base_uri": "https://localhost:8080/",
          "height": 139
        },
        "outputId": "0c8dd05a-fae1-4b8b-fe9a-d97250d2d7dc"
      },
      "source": [
        "# Import numpy as np\n",
        "import numpy as np\n",
        "\n",
        "# Calculate investment_1\n",
        "investment_1 = np.pv(rate=0.03, nper=15, pmt=0, fv=10000)\n",
        "\n",
        "# Note that the present value returned is negative, so we multiply the result by -1\n",
        "print(\"Investment 1 is worth \" + str(round(-investment_1, 2)) + \" in today's dollars\")\n",
        "\n",
        "# Calculate investment_2\n",
        "investment_2 = np.pv(rate=0.05, nper=10, pmt=0, fv=10000)\n",
        "print(\"Investment 2 is worth \" + str(round(-investment_2, 2)) + \" in today's dollars\")"
      ],
      "execution_count": null,
      "outputs": [
        {
          "output_type": "stream",
          "text": [
            "Investment 1 is worth 6418.62 in today's dollars\n",
            "Investment 2 is worth 6139.13 in today's dollars\n"
          ],
          "name": "stdout"
        },
        {
          "output_type": "stream",
          "text": [
            "/usr/local/lib/python3.6/dist-packages/ipykernel_launcher.py:5: DeprecationWarning: numpy.pv is deprecated and will be removed from NumPy 1.20. Use numpy_financial.pv instead (https://pypi.org/project/numpy-financial/).\n",
            "  \"\"\"\n",
            "/usr/local/lib/python3.6/dist-packages/ipykernel_launcher.py:11: DeprecationWarning: numpy.pv is deprecated and will be removed from NumPy 1.20. Use numpy_financial.pv instead (https://pypi.org/project/numpy-financial/).\n",
            "  # This is added back by InteractiveShellApp.init_path()\n"
          ],
          "name": "stderr"
        }
      ]
    },
    {
      "cell_type": "markdown",
      "metadata": {
        "id": "CysT7NSSYbi_",
        "colab_type": "text"
      },
      "source": [
        "The numpy module also contains a similar function, .fv(rate, nper, pmt, pv), which allows you to calculate the future value of an investment as before with a few simple parameters:\n",
        "\n",
        "* rate: The rate of return of the investment\n",
        "* nper: The lifespan of the investment\n",
        "* pmt: The (fixed) payment at the beginning or end of each period (which is 0 in our example)\n",
        "* pv: The present value of the investment\n",
        "\n",
        "It is important to note that in this function call, you must pass a negative value into the pv parameter if it represents a negative cash flow (cash going out). In other words, if you were to compute the future value of an investment, requiring an up-front cash payment, you would need to pass a negative value to the pv parameter in the .fv() function."
      ]
    },
    {
      "cell_type": "code",
      "metadata": {
        "id": "-KKf76J3Yhjs",
        "colab_type": "code",
        "colab": {
          "base_uri": "https://localhost:8080/",
          "height": 139
        },
        "outputId": "6e94b20e-00eb-417e-de64-b53bda87c78a"
      },
      "source": [
        "import numpy as np\n",
        "\n",
        "# Calculate investment_1\n",
        "investment_1 = np.fv(rate=0.05, nper=15, pmt=0, pv=-10000)\n",
        "print(\"Investment 1 will yield a total of $\" + str(round(investment_1, 2)) + \" in 15 years\")\n",
        "\n",
        "# Calculate investment_2\n",
        "investment_2 = np.fv(rate=0.08, nper=15, pmt=0, pv=-10000)\n",
        "print(\"Investment 2 will yield a total of $\" + str(round(investment_2, 2)) + \" in 15 years\")"
      ],
      "execution_count": null,
      "outputs": [
        {
          "output_type": "stream",
          "text": [
            "Investment 1 will yield a total of $20789.28 in 15 years\n",
            "Investment 2 will yield a total of $31721.69 in 15 years\n"
          ],
          "name": "stdout"
        },
        {
          "output_type": "stream",
          "text": [
            "/usr/local/lib/python3.6/dist-packages/ipykernel_launcher.py:4: DeprecationWarning: numpy.fv is deprecated and will be removed from NumPy 1.20. Use numpy_financial.fv instead (https://pypi.org/project/numpy-financial/).\n",
            "  after removing the cwd from sys.path.\n",
            "/usr/local/lib/python3.6/dist-packages/ipykernel_launcher.py:8: DeprecationWarning: numpy.fv is deprecated and will be removed from NumPy 1.20. Use numpy_financial.fv instead (https://pypi.org/project/numpy-financial/).\n",
            "  \n"
          ],
          "name": "stderr"
        }
      ]
    },
    {
      "cell_type": "markdown",
      "metadata": {
        "id": "rhBXVXXJY1FU",
        "colab_type": "text"
      },
      "source": [
        "You can now put together what you learned in the previous exercises by following a simple methodology:\n",
        "\n",
        "First, forecast the future value of an investment given a rate of return\n",
        "Second, discount the future value of the investment by a projected inflation rate.\n",
        "\n",
        "The methodology above will use both the .fv() and .pv() functions to arrive at the projected value of a given investment in today's dollars, adjusted for inflation."
      ]
    },
    {
      "cell_type": "code",
      "metadata": {
        "id": "-Of2FPWuY3yu",
        "colab_type": "code",
        "colab": {
          "base_uri": "https://localhost:8080/",
          "height": 139
        },
        "outputId": "f58ead40-2038-4c60-ac80-82d2dfe44634"
      },
      "source": [
        "import numpy as np\n",
        "\n",
        "# Calculate investment_1\n",
        "investment_1 = np.fv(rate=0.08, nper=10, pmt=0, pv=-10000)\n",
        "print(\"Investment 1 will yield a total of $\" + str(round(investment_1, 2)) + \" in 10 years\")\n",
        "\n",
        "# Calculate investment_2\n",
        "investment_1_discounted = np.pv(rate=0.03, nper=10, pmt=0, fv=investment_1)\n",
        "print(\"After adjusting for inflation, investment 1 is worth $\" + str(round(-investment_1_discounted, 2)) + \" in today's dollars\")"
      ],
      "execution_count": null,
      "outputs": [
        {
          "output_type": "stream",
          "text": [
            "Investment 1 will yield a total of $21589.25 in 10 years\n",
            "After adjusting for inflation, investment 1 is worth $16064.43 in today's dollars\n"
          ],
          "name": "stdout"
        },
        {
          "output_type": "stream",
          "text": [
            "/usr/local/lib/python3.6/dist-packages/ipykernel_launcher.py:4: DeprecationWarning: numpy.fv is deprecated and will be removed from NumPy 1.20. Use numpy_financial.fv instead (https://pypi.org/project/numpy-financial/).\n",
            "  after removing the cwd from sys.path.\n",
            "/usr/local/lib/python3.6/dist-packages/ipykernel_launcher.py:8: DeprecationWarning: numpy.pv is deprecated and will be removed from NumPy 1.20. Use numpy_financial.pv instead (https://pypi.org/project/numpy-financial/).\n",
            "  \n"
          ],
          "name": "stderr"
        }
      ]
    },
    {
      "cell_type": "markdown",
      "metadata": {
        "id": "mh7tNJ8aaRP9",
        "colab_type": "text"
      },
      "source": [
        "You can use numpy's net present value function numpy.npv(rate, values) to calculate the net present value of a series of cash flows. You can create these cash flows by using a numpy.array([...]) of values.\n",
        "\n",
        "Compute the NPV of the same cash flows from the following project, but assuming different discount rates:\n",
        "\n",
        "| Year | Cash Flow |\n",
        "|------|-----------|\n",
        "| 1    |  100      |\n",
        "| 2    |  100      |\n",
        "| 3    |  100      | \n",
        "| 4    |  100      |\n",
        "| 5    |  100      |"
      ]
    },
    {
      "cell_type": "code",
      "metadata": {
        "id": "q7m-_wSBaSw3",
        "colab_type": "code",
        "colab": {
          "base_uri": "https://localhost:8080/",
          "height": 190
        },
        "outputId": "c338f76b-319d-4ccc-b4d4-dc29169f413c"
      },
      "source": [
        "import numpy as np\n",
        "\n",
        "# Predefined array of cash flows\n",
        "cash_flows = np.array([100, 100, 100, 100, 100])\n",
        "\n",
        "# Calculate investment_1\n",
        "investment_1 = np.npv(rate=0.03, values=cash_flows)\n",
        "print(\"Investment 1's net present value is $\" + str(round(investment_1, 2)) + \" in today's dollars\")\n",
        "\n",
        "# Calculate investment_2\n",
        "investment_2 = np.npv(rate=0.05, values=cash_flows)\n",
        "print(\"Investment 2's net present value is $\" + str(round(investment_2, 2)) + \" in today's dollars\")\n",
        "\n",
        "# Calculate investment_3\n",
        "investment_3 = np.npv(rate=0.07, values=cash_flows)\n",
        "print(\"Investment 3's net present value is $\" + str(round(investment_3, 2)) + \" in today's dollars\")"
      ],
      "execution_count": null,
      "outputs": [
        {
          "output_type": "stream",
          "text": [
            "Investment 1's net present value is $471.71 in today's dollars\n",
            "Investment 2's net present value is $454.6 in today's dollars\n",
            "Investment 3's net present value is $438.72 in today's dollars\n"
          ],
          "name": "stdout"
        },
        {
          "output_type": "stream",
          "text": [
            "/usr/local/lib/python3.6/dist-packages/ipykernel_launcher.py:7: DeprecationWarning: numpy.npv is deprecated and will be removed from NumPy 1.20. Use numpy_financial.npv instead (https://pypi.org/project/numpy-financial/).\n",
            "  import sys\n",
            "/usr/local/lib/python3.6/dist-packages/ipykernel_launcher.py:11: DeprecationWarning: numpy.npv is deprecated and will be removed from NumPy 1.20. Use numpy_financial.npv instead (https://pypi.org/project/numpy-financial/).\n",
            "  # This is added back by InteractiveShellApp.init_path()\n",
            "/usr/local/lib/python3.6/dist-packages/ipykernel_launcher.py:15: DeprecationWarning: numpy.npv is deprecated and will be removed from NumPy 1.20. Use numpy_financial.npv instead (https://pypi.org/project/numpy-financial/).\n",
            "  from ipykernel import kernelapp as app\n"
          ],
          "name": "stderr"
        }
      ]
    },
    {
      "cell_type": "markdown",
      "metadata": {
        "id": "Dov30zwLcArt",
        "colab_type": "text"
      },
      "source": [
        "Remember how compounded returns grow rapidly over time? Well, it works in the reverse, too. Compounded discount factors over time will quickly shrink a number towards zero."
      ]
    },
    {
      "cell_type": "code",
      "metadata": {
        "id": "_aB_yJAwcEJz",
        "colab_type": "code",
        "colab": {
          "base_uri": "https://localhost:8080/",
          "height": 190
        },
        "outputId": "a4b0333d-4742-49e2-cea8-c0519611cfef"
      },
      "source": [
        "import numpy as np\n",
        "\n",
        "# Calculate investment_1\n",
        "investment_1 = np.pv(rate=0.03, nper=30, pmt=0, fv=100)\n",
        "print(\"Investment 1 is worth $\" + str(round(-investment_1, 2)) + \" in today's dollars\")\n",
        "\n",
        "# Calculate investment_2\n",
        "investment_2 = np.pv(rate=0.03, nper=50, pmt=0, fv=100)\n",
        "print(\"Investment 2 is worth $\" + str(round(-investment_2, 2)) + \" in today's dollars\")\n",
        "\n",
        "# Calculate investment_3\n",
        "investment_3 = np.pv(rate=0.03, nper=100, pmt=0, fv=100)\n",
        "print(\"Investment 3 is worth $\" + str(round(-investment_3, 2)) + \" in today's dollars\")"
      ],
      "execution_count": null,
      "outputs": [
        {
          "output_type": "stream",
          "text": [
            "Investment 1 is worth $41.2 in today's dollars\n",
            "Investment 2 is worth $22.81 in today's dollars\n",
            "Investment 3 is worth $5.2 in today's dollars\n"
          ],
          "name": "stdout"
        },
        {
          "output_type": "stream",
          "text": [
            "/usr/local/lib/python3.6/dist-packages/ipykernel_launcher.py:4: DeprecationWarning: numpy.pv is deprecated and will be removed from NumPy 1.20. Use numpy_financial.pv instead (https://pypi.org/project/numpy-financial/).\n",
            "  after removing the cwd from sys.path.\n",
            "/usr/local/lib/python3.6/dist-packages/ipykernel_launcher.py:8: DeprecationWarning: numpy.pv is deprecated and will be removed from NumPy 1.20. Use numpy_financial.pv instead (https://pypi.org/project/numpy-financial/).\n",
            "  \n",
            "/usr/local/lib/python3.6/dist-packages/ipykernel_launcher.py:12: DeprecationWarning: numpy.pv is deprecated and will be removed from NumPy 1.20. Use numpy_financial.pv instead (https://pypi.org/project/numpy-financial/).\n",
            "  if sys.path[0] == '':\n"
          ],
          "name": "stderr"
        }
      ]
    },
    {
      "cell_type": "markdown",
      "metadata": {
        "id": "PnOoWTvHc-3H",
        "colab_type": "text"
      },
      "source": [
        "## Making Data-Driven Financial Decisions\n",
        "Your project managers have projected the cash flows for each of the proposals.\n",
        "\n",
        "Project 1 provides higher short term cash flows, but Project 2 becomes more profitable over time.\n",
        "\n",
        "The cash flow projections for both projects are as follows:\n",
        "\n",
        "| Year | Project 1 | Project 2 |\n",
        "|------|-----------|-----------|\n",
        "| 1 |\t-1,000 (initial investment) | -1,000 (initial investment) |\n",
        "| 2 |\t200 (cash flow) | 150 (cash flow) |\n",
        "| 3 | 250\t| 225 |\n",
        "| 4\t| 300 |\t300 |\n",
        "| 5 |\t350\t| 375 |\n",
        "| 6 |\t400\t| 425 |\n",
        "| 7\t| 450\t| 500 |\n",
        "| 8\t| 500\t| 575 |\n",
        "| 9 |\t550\t| 600 |\n",
        "| 10 | 600 | 625 |\n",
        "\n",
        "Note: The projections are provided in thousands. For example, 1,000 = \\$ 1,000,000. We will use the smaller denominations to make everything easier to read. This is also commonly done in financial statements with thousands or even millions in order to represent millions or billions.\n",
        "\n",
        "Now that you have the cash flow projections ready to go for each project, you want to compare the internal rate of return (IRR) of each project to help you decide which project would be most beneficial for your company in terms of yield (rate of return). In this exercise, you will calculate the internal rate of return for each project using np.irr(values). Higher internal rates of return are preferable."
      ]
    },
    {
      "cell_type": "code",
      "metadata": {
        "id": "haDBVZXmcKHr",
        "colab_type": "code",
        "colab": {
          "base_uri": "https://localhost:8080/",
          "height": 122
        },
        "outputId": "f5055bba-09a8-434a-f8b8-5987b75fb67b"
      },
      "source": [
        "import numpy as np\n",
        "\n",
        "# Create a numpy array of cash flows for Project 1\n",
        "cf_project_1 = np.array([-1000, 200, 250, 300, 350, 400, 450, 500, 550, 600])\n",
        "\n",
        "# Create a numpy array of cash flows for Project 2\n",
        "cf_project_2 = np.array([-1000, 150, 225, 300, 375, 425, 500, 575, 600, 625])\n",
        "\n",
        "# Scale the original objects by 1000x\n",
        "cf_project1 = cf_project_1 * 1000\n",
        "cf_project2 = cf_project_2 * 1000\n",
        "\n",
        "# Calculate the internal rate of return for Project 1\n",
        "irr_project1 = np.irr(cf_project1)\n",
        "print(\"Project 1 IRR: \" + str(round(100*irr_project1, 2)) + \"%\")\n",
        "\n",
        "# Calculate the internal rate of return for Project 2\n",
        "irr_project2 = np.irr(cf_project2)\n",
        "print(\"Project 2 IRR: \" + str(round(100*irr_project2, 2)) + \"%\")"
      ],
      "execution_count": null,
      "outputs": [
        {
          "output_type": "stream",
          "text": [
            "Project 1 IRR: 28.92%\n",
            "Project 2 IRR: 28.78%\n"
          ],
          "name": "stdout"
        },
        {
          "output_type": "stream",
          "text": [
            "/usr/local/lib/python3.6/dist-packages/ipykernel_launcher.py:14: DeprecationWarning: numpy.irr is deprecated and will be removed from NumPy 1.20. Use numpy_financial.irr instead (https://pypi.org/project/numpy-financial/).\n",
            "  \n",
            "/usr/local/lib/python3.6/dist-packages/ipykernel_launcher.py:18: DeprecationWarning: numpy.irr is deprecated and will be removed from NumPy 1.20. Use numpy_financial.irr instead (https://pypi.org/project/numpy-financial/).\n"
          ],
          "name": "stderr"
        }
      ]
    },
    {
      "cell_type": "markdown",
      "metadata": {
        "id": "IGuCh5sPE0Lf",
        "colab_type": "text"
      },
      "source": [
        "In the previous chapter, you were able to assume that your discount rate for the NPV calculation was solely based on a measure such as inflation.\n",
        "\n",
        "However, in this chapter, you are the CEO of a new company that has outstanding debt and financing costs, which you will have to adjust for.\n",
        "\n",
        "You will use the WACC as your discount rate in upcoming exercises.\n",
        "\n",
        "For this exercise, assume you take out a \\$1,000,000 loan to finance the project, which will be your company's only outstanding debt. This loan will represent 50% of your company's total financing of \\$2,000,000. The remaining funding comes from the market value of equity.\n",
        "\n",
        "In addition to determining the proportion of both equity and debt financing, you will need to estimate the cost of financing via both debt and equity in order to estimate your WACC.\n",
        "\n",
        "The cost of debt financing can be estimated as the amount you will have to pay on a new loan. This can be estimated by looking at the interest rates of loans of similar sizes to similar companies, or could be based on previous loans your company may already have been issued.\n",
        "\n",
        "The cost of equity financing can be estimated as the return on equity of similar companies. Calculating the return on equity is a simple accounting exercise, but all you need to know is that essentially, investors will require a rate of return that is close to what could be earned by a similar investment."
      ]
    },
    {
      "cell_type": "code",
      "metadata": {
        "id": "l_4Zf2mmfDLt",
        "colab_type": "code",
        "colab": {}
      },
      "source": [
        "# Set the market value of debt\n",
        "mval_debt = 1000000\n",
        "\n",
        "# Set the market value of equity\n",
        "mval_equity = 1000000\n",
        "\n",
        "# Compute the total market value of your company's financing\n",
        "mval_total = mval_debt + mval_equity\n",
        "\n",
        "# Compute the proportion of your company's financing via debt\n",
        "percent_debt = mval_debt/mval_total\n",
        "print(\"Debt Financing: \" + str(round(100*percent_debt, 2)) + \"%\")\n",
        "\n",
        "# Compute the proportion of your company's financing via equity\n",
        "percent_equity = mval_equity/mval_total\n",
        "print(\"Equity Financing: \" + str(round(100*percent_equity, 2)) + \"%\")\n",
        "\n",
        "# Set the cost of equity\n",
        "cost_equity = 0.18\n",
        "\n",
        "# Set the cost of debt\n",
        "cost_debt = 0.12\n",
        "\n",
        "# Set the corporate tax rate\n",
        "tax_rate = 0.35\n",
        "\n",
        "# Calculate the WACC\n",
        "wacc = percent_equity * cost_equity + percent_debt * cost_debt * (1-tax_rate)\n",
        "print(\"WACC: \" + str(round(100*wacc, 2)) + \"%\")"
      ],
      "execution_count": null,
      "outputs": []
    },
    {
      "cell_type": "markdown",
      "metadata": {
        "id": "2saHjpQZJkGO",
        "colab_type": "text"
      },
      "source": [
        "The board of the company has decided to go a different direction, involving slightly shorter term projects and lower initial investments.\n",
        "\n",
        "Your project managers have come up with two new ideas, and projected the cash flows for each of the proposals.\n",
        "\n",
        "Project 1 has a lifespan of 8 years, but Project 2 only has a lifespan of 7 years. Project 1 requires an initial investment of \\$700,000, but Project 2 only requires \\$400,000.\n",
        "\n",
        "The cash flow projections for both projects are as follows:\n",
        "\n",
        "| Year\t| Project 1 | Project 2 |\n",
        "|-------|-----------|-----------|\n",
        "| 1\t| -700 (initial investment)\t| -400 (initial investment) |\n",
        "| 2\t| 100 (cash flow) |\t50 (cash flow) |\n",
        "| 3\t| 150\t| 100 |\n",
        "| 4\t| 200\t| 150 |\n",
        "| 5\t| 250\t| 200 |\n",
        "| 6\t| 300\t| 250 |\n",
        "| 7\t| 350\t| 300 |\n",
        "| 8\t| 400 |\tN/A |\n",
        "\n",
        "While the IRR remains relatively comparable across projects, the NPV, on the other hand, will be much more difficult to compare given the additional year required for project 1.\n",
        "\n",
        "The equivalent annual annuity (EAA) approach allows us to compare two projects by essentially assuming that each project is an investment generating a flat interest rate each year (an annuity), and calculating the annual payment you would receive from each project, discounted to present value.\n",
        "\n",
        "You can compute the EAA of each project using the .pmt(rate, nper, pv, fv) function in numpy."
      ]
    },
    {
      "cell_type": "code",
      "metadata": {
        "id": "cHfGoWEGKae9",
        "colab_type": "code",
        "colab": {
          "base_uri": "https://localhost:8080/",
          "height": 258
        },
        "outputId": "e4bba8ff-9203-4d55-d8dc-66b5c169a1a8"
      },
      "source": [
        "import numpy as np\n",
        "\n",
        "# Create a numpy array of cash flows for Project 1\n",
        "cf_project_1 = np.array([-700, 100, 150, 200, 250, 300, 350, 400])\n",
        "\n",
        "# Create a numpy array of cash flows for Project 2\n",
        "cf_project_2 = np.array([-400, 50, 100, 150, 200, 250, 300])\n",
        "\n",
        "# Scale the original objects by 1000x\n",
        "cf_project1 = cf_project_1 * 1000\n",
        "cf_project2 = cf_project_2 * 1000\n",
        "\n",
        "# Calculate the IRR for Project 1\n",
        "irr_project1 = np.irr(cf_project1)\n",
        "print(\"Project 1 IRR: \" + str(round(100*irr_project1, 2)) + \"%\")\n",
        "\n",
        "# Calculate the IRR for Project 2\n",
        "irr_project2 = np.irr(cf_project2)\n",
        "print(\"Project 2 IRR: \" + str(round(100*irr_project2, 2)) + \"%\")\n",
        "\n",
        "# Set the wacc equal to 12.9%\n",
        "wacc = 0.129\n",
        "\n",
        "# Calculate the NPV for Project 1\n",
        "npv_project1 = np.npv(wacc, cf_project1)\n",
        "print(\"Project 1 NPV: \" + str(round(npv_project1, 2)))\n",
        "\n",
        "# Calculate the NPV for Project 2\n",
        "npv_project2 = np.npv(wacc, cf_project2)\n",
        "print(\"Project 2 NPV: \" + str(round(npv_project2, 2)))\n",
        "\n",
        "# Calculate the EAA for Project 1\n",
        "eaa_project1 = np.pmt(rate=wacc, nper=8, pv=-1*npv_project1, fv=0)\n",
        "print(\"Project 1 EAA: \" + str(round(eaa_project1, 2)))\n",
        "\n",
        "# Calculate the EAA for Project 2\n",
        "eaa_project2 = np.pmt(rate=wacc, nper=7, pv=-1*npv_project2, fv=0)\n",
        "print(\"Project 2 EAA: \" + str(round(eaa_project2, 2)))"
      ],
      "execution_count": null,
      "outputs": [
        {
          "output_type": "stream",
          "text": [
            "Project 1 IRR: 22.94%\n",
            "Project 2 IRR: 26.89%\n",
            "Project 1 NPV: 302744.98\n",
            "Project 2 NPV: 231228.39\n",
            "Project 1 EAA: 62872.2\n",
            "Project 2 EAA: 52120.61\n"
          ],
          "name": "stdout"
        },
        {
          "output_type": "stream",
          "text": [
            "/usr/local/lib/python3.6/dist-packages/ipykernel_launcher.py:14: DeprecationWarning: numpy.irr is deprecated and will be removed from NumPy 1.20. Use numpy_financial.irr instead (https://pypi.org/project/numpy-financial/).\n",
            "  \n",
            "/usr/local/lib/python3.6/dist-packages/ipykernel_launcher.py:18: DeprecationWarning: numpy.irr is deprecated and will be removed from NumPy 1.20. Use numpy_financial.irr instead (https://pypi.org/project/numpy-financial/).\n",
            "/usr/local/lib/python3.6/dist-packages/ipykernel_launcher.py:25: DeprecationWarning: numpy.npv is deprecated and will be removed from NumPy 1.20. Use numpy_financial.npv instead (https://pypi.org/project/numpy-financial/).\n",
            "/usr/local/lib/python3.6/dist-packages/ipykernel_launcher.py:29: DeprecationWarning: numpy.npv is deprecated and will be removed from NumPy 1.20. Use numpy_financial.npv instead (https://pypi.org/project/numpy-financial/).\n",
            "/usr/local/lib/python3.6/dist-packages/ipykernel_launcher.py:33: DeprecationWarning: numpy.pmt is deprecated and will be removed from NumPy 1.20. Use numpy_financial.pmt instead (https://pypi.org/project/numpy-financial/).\n",
            "/usr/local/lib/python3.6/dist-packages/ipykernel_launcher.py:37: DeprecationWarning: numpy.pmt is deprecated and will be removed from NumPy 1.20. Use numpy_financial.pmt instead (https://pypi.org/project/numpy-financial/).\n"
          ],
          "name": "stderr"
        }
      ]
    },
    {
      "cell_type": "markdown",
      "metadata": {
        "id": "pA-7reQ7zeI_",
        "colab_type": "text"
      },
      "source": [
        "## Simulating a Mortgage Loan\n",
        "You're expecting a child soon, and its time to start looking for a home.\n",
        "\n",
        "You're currently living out of an apartment in New York City, but your blossoming career as a Data Scientist has allowed you to save up a sizable sum and purchase a home in neighboring Hoboken, New Jersey.\n",
        "\n",
        "You have decided to purchase a beautiful brownstone home in the $800,000 range. While you do have a considerable amount of cash on hand, you don't have enough to purchase the entire home outright, which means you will have to take the remaining balance out as a mortgage loan. From the sound of it, you'll have to put about 20% down up-front to a mortgage loan of that size.\n",
        "\n",
        "This up-front payment is known as a down payment.\n",
        "\n",
        "In order to make sure you can afford the home, you will have to calculate the monthly mortgage payment you will have to make on a loan that size.\n",
        "\n",
        "Now, since you will be paying a monthly mortgage, you will have to convert each of the parameters into their monthly equivalents. Be careful when adjusting the interest rate, which is compounding!\n",
        "\n",
        "In order to calculate the monthly mortgage payment, you will use the numpy function .pmt(rate, nper, pv) where:\n",
        "\n",
        "* rate = The periodic (monthly) interest rate\n",
        "* nper = The number of payment periods (months) in the lifespan of the mortgage loan\n",
        "* pv = The total value of the mortgage loan\n",
        "You have been given a 30-year mortgage loan quote for your desired amount at 3.75%. \n",
        "\n",
        "The annual mortgage rate is 0.0375."
      ]
    },
    {
      "cell_type": "code",
      "metadata": {
        "id": "FPUTjJLdLZtY",
        "colab_type": "code",
        "colab": {
          "base_uri": "https://localhost:8080/",
          "height": 105
        },
        "outputId": "e95a1dad-f784-475a-e638-103943504eaa"
      },
      "source": [
        "import numpy as np\n",
        "\n",
        "# Set the value of the home you are looking to buy\n",
        "home_value = 800000\n",
        "\n",
        "# What percentage are you paying up-front?\n",
        "down_payment_percent = 0.2\n",
        "\n",
        "# Calculate the dollar value of the down payment\n",
        "down_payment = home_value * down_payment_percent\n",
        "print(\"Initial Down Payment: \" + str(down_payment))\n",
        "\n",
        "# Calculate the value of the mortgage loan required after the down payment\n",
        "mortgage_loan = home_value - down_payment\n",
        "print(\"Mortgage Loan: \" + str(mortgage_loan))\n",
        "\n",
        "mortgage_rate = 0.0375\n",
        "# Derive the equivalent monthly mortgage rate from the annual rate\n",
        "mortgage_rate_periodic = (1 + mortgage_rate) ** (1/12) - 1\n",
        "\n",
        "# How many monthly payment periods will there be over 30 years?\n",
        "mortgage_payment_periods = 30 * 12\n",
        "\n",
        "# Calculate the monthly mortgage payment (multiply by -1 to keep it positive)\n",
        "periodic_mortgage_payment = -1*np.pmt(rate = mortgage_rate_periodic, nper = mortgage_payment_periods, pv = mortgage_loan)\n",
        "print(\"Monthly Mortgage Payment: \" + str(round(periodic_mortgage_payment, 2)))"
      ],
      "execution_count": null,
      "outputs": [
        {
          "output_type": "stream",
          "text": [
            "Initial Down Payment: 160000.0\n",
            "Mortgage Loan: 640000.0\n",
            "Monthly Mortgage Payment: 2941.13\n"
          ],
          "name": "stdout"
        },
        {
          "output_type": "stream",
          "text": [
            "/usr/local/lib/python3.6/dist-packages/ipykernel_launcher.py:25: DeprecationWarning: numpy.pmt is deprecated and will be removed from NumPy 1.20. Use numpy_financial.pmt instead (https://pypi.org/project/numpy-financial/).\n"
          ],
          "name": "stderr"
        }
      ]
    },
    {
      "cell_type": "markdown",
      "metadata": {
        "id": "cK3ZB6IM00ZR",
        "colab_type": "text"
      },
      "source": [
        "Due to the size of the mortgage loan, you begin the mortgage in the initial period by paying mostly interest and retaining very little principal, or equity that goes towards the ownership of your home.\n",
        "\n",
        "This means that if you were to stop paying your mortgage and sell your home after only a few years, the bank would actually own most of the home because what you paid was mostly interest, and very little principal."
      ]
    },
    {
      "cell_type": "code",
      "metadata": {
        "id": "gDJ76U3E1cqz",
        "colab_type": "code",
        "colab": {
          "base_uri": "https://localhost:8080/",
          "height": 51
        },
        "outputId": "f73d31f8-dd93-40de-af53-75091ec70341"
      },
      "source": [
        "# Calculate the amount of the first loan payment that will go towards interest\n",
        "initial_interest_payment = mortgage_loan * mortgage_rate_periodic\n",
        "print(\"Initial Interest Payment: \" + str(round(initial_interest_payment, 2)))\n",
        "\n",
        "# Calculate the amount of the first loan payment that will go towards principal\n",
        "initial_principal_payment = periodic_mortgage_payment - initial_interest_payment\n",
        "print(\"Initial Principal Payment: \" + str(round(initial_principal_payment, 2)))"
      ],
      "execution_count": null,
      "outputs": [
        {
          "output_type": "stream",
          "text": [
            "Initial Interest Payment: 1966.43\n",
            "Initial Principal Payment: 974.7\n"
          ],
          "name": "stdout"
        }
      ]
    },
    {
      "cell_type": "markdown",
      "metadata": {
        "id": "IQmXx4691mL6",
        "colab_type": "text"
      },
      "source": [
        "Every time a mortgage payment is made, the following payment will have a slightly lower percentage, which is used to pay off interest. This means that more of the remainder will go towards the portion of the home that you own instead of the bank. This is important to determine how much you will gain from selling the home before paying off your mortgage, or to determine when your mortgage is underwater. But more on that later.\n",
        "\n",
        "You will now write a simple program to calculate the interest and mortgage portions of each payment over time."
      ]
    },
    {
      "cell_type": "code",
      "metadata": {
        "id": "5kB9oVGo3mjv",
        "colab_type": "code",
        "colab": {}
      },
      "source": [
        "principal_remaining = np.zeros(mortgage_payment_periods)\n",
        "# Loop through each mortgage payment period\n",
        "for i in range(0, mortgage_payment_periods):\n",
        "    \n",
        "    # Handle the case for the first iteration\n",
        "    if i == 0:\n",
        "        previous_principal_remaining = mortgage_loan\n",
        "    else:\n",
        "        previous_principal_remaining = principal_remaining[i-1]\n",
        "        \n",
        "    # Calculate the interest and principal payments\n",
        "    interest_payment = round(previous_principal_remaining*mortgage_rate_periodic, 2)\n",
        "    principal_payment = round(periodic_mortgage_payment - interest_payment, 2)\n",
        "    \n",
        "    # Catch the case where all principal is paid off in the final period\n",
        "    if previous_principal_remaining - principal_payment < 0:\n",
        "        principal_payment = previous_principal_remaining\n",
        "        \n",
        "    # Collect the principal remaining values in an array\n",
        "    principal_remaining[i] = previous_principal_remaining - principal_payment"
      ],
      "execution_count": null,
      "outputs": []
    },
    {
      "cell_type": "code",
      "metadata": {
        "id": "5wANcIjf6M6f",
        "colab_type": "code",
        "colab": {
          "base_uri": "https://localhost:8080/",
          "height": 265
        },
        "outputId": "ec90ff1a-6955-4519-8222-cb7996401498"
      },
      "source": [
        "import numpy as np\n",
        "import matplotlib.pyplot as plt\n",
        "\n",
        "interest_paid = np.zeros(mortgage_payment_periods)\n",
        "principal_paid = np.zeros(mortgage_payment_periods)\n",
        "principal_remaining = np.zeros(mortgage_payment_periods)\n",
        "# Loop through each mortgage payment period\n",
        "for i in range(0, mortgage_payment_periods):\n",
        "    \n",
        "    # Handle the case for the first iteration\n",
        "    if i == 0:\n",
        "        previous_principal_remaining = mortgage_loan\n",
        "    else:\n",
        "        previous_principal_remaining = principal_remaining[i-1]\n",
        "        \n",
        "    # Calculate the interest based on the previous principal\n",
        "    interest_payment = round(previous_principal_remaining*mortgage_rate_periodic, 2)\n",
        "    principal_payment = round(periodic_mortgage_payment - interest_payment, 2)\n",
        "    \n",
        "    # Catch the case where all principal is paid off in the final period\n",
        "    if previous_principal_remaining - principal_payment < 0:\n",
        "        principal_payment = previous_principal_remaining\n",
        "        \n",
        "    # Collect the historical values\n",
        "    interest_paid[i] = interest_payment\n",
        "    principal_paid[i] = principal_payment\n",
        "    principal_remaining[i] = previous_principal_remaining - principal_payment\n",
        "    \n",
        "# Plot the interest vs principal\n",
        "plt.plot(interest_paid, color=\"red\")\n",
        "plt.plot(principal_paid, color=\"blue\")\n",
        "plt.legend(['interest_plot', 'principal_plot'])\n",
        "plt.show()"
      ],
      "execution_count": null,
      "outputs": [
        {
          "output_type": "display_data",
          "data": {
            "image/png": "[encoded data removed]",
            "text/plain": [
              "<Figure size 432x288 with 1 Axes>"
            ]
          },
          "metadata": {
            "tags": [],
            "needs_background": "light"
          }
        }
      ]
    },
    {
      "cell_type": "markdown",
      "metadata": {
        "id": "7X_Uo93m8kKP",
        "colab_type": "text"
      },
      "source": [
        "You are faithfully paying your mortgage each month, but it's difficult to tell how much of the house you actually own and how much interest you have paid in total over the years.\n",
        "\n",
        "Use np.cumsum() to add up all the interest payments and also to add up all the principal payments over time to see how your ownership changes over time.\n",
        "\n",
        "Recall that np.cumsum() performs a cumulative sum over time. Return a series of iterative sums instead of just a single number."
      ]
    },
    {
      "cell_type": "code",
      "metadata": {
        "id": "CchPkzFS7AzF",
        "colab_type": "code",
        "colab": {
          "base_uri": "https://localhost:8080/",
          "height": 1000
        },
        "outputId": "266eee65-007a-4fc8-c3b0-0797e146add4"
      },
      "source": [
        "import numpy as np\n",
        "\n",
        "# Calculate the cumulative home equity (principal) over time\n",
        "cumulative_home_equity = np.cumsum(principal_paid)\n",
        "\n",
        "# Calculate the cumulative interest paid over time\n",
        "cumulative_interest_paid = np.cumsum(interest_paid)\n",
        "\n",
        "# Calculate your percentage home equity over time\n",
        "cumulative_percent_owned = down_payment_percent + (cumulative_home_equity/home_value)\n",
        "print(cumulative_percent_owned)\n",
        "\n",
        "# Plot the cumulative interest paid vs equity accumulated\n",
        "plt.plot(cumulative_interest_paid, color='red')\n",
        "plt.plot(cumulative_home_equity, color='blue')\n",
        "plt.legend(['interest_plot', 'principal_plot'])\n",
        "plt.show()"
      ],
      "execution_count": null,
      "outputs": [
        {
          "output_type": "stream",
          "text": [
            "[0.20121838 0.2024405  0.20366638 0.20489603 0.20612945 0.20736666\n",
            " 0.20860768 0.2098525  0.21110115 0.21235364 0.21360998 0.21487017\n",
            " 0.21613424 0.21740219 0.21867404 0.21994979 0.22122946 0.22251308\n",
            " 0.22380063 0.22509214 0.22638761 0.22768706 0.22899051 0.23029796\n",
            " 0.23160944 0.23292494 0.23424448 0.23556808 0.23689574 0.23822748\n",
            " 0.23956331 0.24090325 0.2422473  0.24359549 0.24494781 0.2463043\n",
            " 0.24766495 0.24902979 0.25039881 0.25177205 0.2531495  0.25453119\n",
            " 0.25591711 0.2573073  0.25870176 0.2601005  0.26150354 0.26291089\n",
            " 0.26432256 0.26573857 0.26715894 0.26858366 0.27001276 0.27144626\n",
            " 0.27288416 0.27432649 0.27577324 0.27722444 0.27868009 0.28014021\n",
            " 0.28160483 0.28307394 0.28454756 0.28602571 0.28750841 0.28899566\n",
            " 0.29048749 0.29198389 0.29348489 0.2949905  0.29650074 0.29801563\n",
            " 0.29953516 0.30105936 0.30258825 0.30412184 0.30566014 0.30720316\n",
            " 0.30875093 0.31030345 0.31186074 0.31342281 0.31498969 0.31656138\n",
            " 0.3181379  0.31971926 0.32130549 0.32289659 0.32449258 0.32609346\n",
            " 0.32769928 0.32931001 0.3309257  0.33254635 0.33417199 0.33580261\n",
            " 0.33743825 0.33907891 0.34072461 0.34237538 0.34403121 0.34569214\n",
            " 0.34735816 0.3490293  0.35070558 0.352387   0.3540736  0.35576538\n",
            " 0.35746235 0.35916454 0.36087196 0.36258463 0.36430255 0.36602575\n",
            " 0.36775425 0.36948806 0.3712272  0.37297169 0.37472152 0.37647674\n",
            " 0.37823735 0.38000338 0.38177483 0.38355171 0.38533406 0.38712189\n",
            " 0.38891521 0.39071404 0.39251839 0.39432829 0.39614375 0.39796479\n",
            " 0.39979143 0.40162368 0.40346155 0.40530508 0.40715426 0.40900914\n",
            " 0.4108697  0.41273599 0.41460801 0.41648579 0.41836933 0.42025865\n",
            " 0.42215379 0.42405474 0.42596154 0.42787419 0.42979272 0.43171715\n",
            " 0.43364749 0.43558376 0.43752599 0.43947417 0.44142835 0.44338852\n",
            " 0.44535472 0.44732696 0.44930526 0.45128964 0.45328011 0.4552767\n",
            " 0.45727942 0.4592883  0.46130335 0.4633246  0.46535205 0.46738574\n",
            " 0.46942568 0.47147187 0.47352436 0.47558316 0.47764829 0.47971975\n",
            " 0.48179758 0.48388179 0.4859724  0.48806944 0.49017293 0.49228288\n",
            " 0.4943993  0.49652224 0.49865169 0.50078769 0.50293025 0.5050794\n",
            " 0.50723515 0.50939753 0.51156654 0.51374221 0.51592458 0.51811365\n",
            " 0.52030945 0.52251199 0.5247213  0.5269374  0.52916031 0.53139005\n",
            " 0.53362664 0.5358701  0.53812045 0.54037771 0.54264191 0.54491308\n",
            " 0.54719121 0.54947635 0.55176851 0.55406771 0.55637398 0.55868733\n",
            " 0.56100779 0.56333538 0.56567011 0.56801203 0.57036114 0.57271746\n",
            " 0.57508104 0.57745187 0.57982999 0.58221541 0.58460816 0.58700826\n",
            " 0.58941574 0.59183061 0.59425291 0.59668265 0.59911985 0.60156454\n",
            " 0.60401674 0.60647648 0.60894378 0.61141865 0.61390113 0.61639124\n",
            " 0.618889   0.62139444 0.62390756 0.62642841 0.62895701 0.63149338\n",
            " 0.63403754 0.63658951 0.63914933 0.64171701 0.64429259 0.64687608\n",
            " 0.6494675  0.65206689 0.65467426 0.65728965 0.65991308 0.66254455\n",
            " 0.66518411 0.66783179 0.6704876  0.67315158 0.67582374 0.6785041\n",
            " 0.6811927  0.68388956 0.68659471 0.68930818 0.69202998 0.69476014\n",
            " 0.69749869 0.70024565 0.70300105 0.70576493 0.70853729 0.71131816\n",
            " 0.71410759 0.71690559 0.71971218 0.72252739 0.72535125 0.72818379\n",
            " 0.73102504 0.73387501 0.73673375 0.73960126 0.74247759 0.74536275\n",
            " 0.74825678 0.7511597  0.75407154 0.75699233 0.75992209 0.76286085\n",
            " 0.76580864 0.76876549 0.77173143 0.77470648 0.77769066 0.78068403\n",
            " 0.78368658 0.78669835 0.78971939 0.7927497  0.79578933 0.79883829\n",
            " 0.80189663 0.80496436 0.80804153 0.81112814 0.81422424 0.81732985\n",
            " 0.820445   0.82356973 0.82670405 0.829848   0.83300161 0.83616491\n",
            " 0.83933794 0.84252071 0.84571326 0.84891563 0.85212783 0.8553499\n",
            " 0.85858188 0.86182378 0.86507564 0.86833749 0.87160936 0.87489129\n",
            " 0.8781833  0.88148543 0.8847977  0.88812015 0.89145281 0.89479571\n",
            " 0.89814887 0.90151235 0.90488615 0.90827032 0.9116649  0.9150699\n",
            " 0.91848536 0.92191131 0.9253478  0.92879484 0.93225248 0.93572072\n",
            " 0.93919964 0.94268924 0.94618956 0.94970064 0.9532225  0.95675519\n",
            " 0.96029872 0.96385315 0.9674185  0.9709948  0.97458209 0.9781804\n",
            " 0.98178978 0.98541024 0.98904183 0.99268456 0.9963385  1.        ]\n"
          ],
          "name": "stdout"
        },
        {
          "output_type": "display_data",
          "data": {
            "image/png": "[encoded data removed]",
            "text/plain": [
              "<Figure size 432x288 with 1 Axes>"
            ]
          },
          "metadata": {
            "tags": [],
            "needs_background": "light"
          }
        }
      ]
    },
    {
      "cell_type": "markdown",
      "metadata": {
        "id": "jLztdJX09qHt",
        "colab_type": "text"
      },
      "source": [
        "Home values have been rising steadily each year, and this is a rather large investment for you.\n",
        "\n",
        "Calculate your home equity value over time given a steady growth rate of 0.25% per month."
      ]
    },
    {
      "cell_type": "code",
      "metadata": {
        "id": "RGURPGpW9pLv",
        "colab_type": "code",
        "colab": {
          "base_uri": "https://localhost:8080/",
          "height": 276
        },
        "outputId": "1d6fe785-b89d-49f0-d3e7-53e20e1c2a92"
      },
      "source": [
        "growth_array = np.ones(mortgage_payment_periods) * 0.0025\n",
        "# Calculate the cumulative growth over time\n",
        "cumulative_growth_forecast = np.cumprod(1 + growth_array)\n",
        "\n",
        "# Forecast the home value over time\n",
        "home_value_forecast = home_value * cumulative_growth_forecast\n",
        "\n",
        "# Forecast the home equity value owned over time\n",
        "cumulative_home_value_owned = home_value_forecast * cumulative_percent_owned\n",
        "\n",
        "# Plot the home value vs equity accumulated\n",
        "plt.plot(home_value_forecast, color='red')\n",
        "plt.plot(cumulative_home_value_owned, color='blue')\n",
        "plt.legend(['homevalue_plot', 'homeequity_plot'])\n",
        "plt.show()"
      ],
      "execution_count": null,
      "outputs": [
        {
          "output_type": "display_data",
          "data": {
            "image/png": "[encoded data removed]",
            "text/plain": [
              "<Figure size 432x288 with 1 Axes>"
            ]
          },
          "metadata": {
            "tags": [],
            "needs_background": "light"
          }
        }
      ]
    },
    {
      "cell_type": "markdown",
      "metadata": {
        "id": "OfuA5CxS_2-F",
        "colab_type": "text"
      },
      "source": [
        "## Budgeting Application\n",
        "\n",
        "You just got a new job as an entry-level Data Scientist at a technology company in New York City with a decent starting salary of $85,000 per year.\n",
        "\n",
        "Unfortunately, after state and local taxes, you can expect to be sending roughly 30% back to the government each year.\n",
        "\n",
        "You will need to calculate your monthly take home pay after taxes in order to begin budgeting."
      ]
    },
    {
      "cell_type": "code",
      "metadata": {
        "id": "J5Xu-QV-9f7G",
        "colab_type": "code",
        "colab": {
          "base_uri": "https://localhost:8080/",
          "height": 51
        },
        "outputId": "f9bea257-d76e-4285-f1a1-c7d180c4334c"
      },
      "source": [
        "# Enter your annual salary\n",
        "salary = 85000\n",
        "\n",
        "# Assume a tax rate of 30%\n",
        "tax_rate = 0.3\n",
        "\n",
        "# Calculate your salary after taxes\n",
        "salary_after_taxes = salary * (1-tax_rate)\n",
        "print(\"Salary after taxes: \" + str(round(salary_after_taxes, 2)))\n",
        "\n",
        "# Calculate your monthly salary after taxes\n",
        "monthly_takehome_salary = salary_after_taxes/12\n",
        "print(\"Monthly takehome salary: \" + str(round(monthly_takehome_salary, 2)))"
      ],
      "execution_count": 1,
      "outputs": [
        {
          "output_type": "stream",
          "text": [
            "Salary after taxes: 59500.0\n",
            "Monthly takehome salary: 4958.33\n"
          ],
          "name": "stdout"
        }
      ]
    },
    {
      "cell_type": "markdown",
      "metadata": {
        "id": "2voCfkRDUr1-",
        "colab_type": "text"
      },
      "source": [
        "In order to make it in New York City, you have decided to split a two-bedroom apartment with a friend. You will have to budget for rent, food and entertainment, but it's also a good idea to allocate an amount for unforeseen expenses each month. This unforeseen expenses budget could be used for anything ranging from new clothes or electronics to doctor appointments.\n",
        "\n",
        "Set up your monthly budget as follows:\n",
        "\n",
        "* Rent: \\$1200 / month (Includes utilities)\n",
        "* Food: \\$30 / day (On average. Includes groceries and eating out.)\n",
        "* Entertainment: \\$200 / month (Movies, drinks, museums, parties...)\n",
        "* Unforeseen Expenses: \\$250 / month (Stay safe, and don't drop your phone!)\n",
        "\n",
        "For this application, assume an average of 30 days per month. Whatever is left after your paying your monthly expenses will go into your savings account each month."
      ]
    },
    {
      "cell_type": "code",
      "metadata": {
        "id": "Zp8KJ9kTU6U1",
        "colab_type": "code",
        "colab": {
          "base_uri": "https://localhost:8080/",
          "height": 51
        },
        "outputId": "4dffe200-68b0-4cc3-dc9d-b3bc41088b5f"
      },
      "source": [
        "# Enter your monthly rent\n",
        "monthly_rent = 1200\n",
        "\n",
        "# Enter your daily food budget\n",
        "daily_food_budget = 30\n",
        "\n",
        "# Calculate your monthly food budget assuming 30 days per month\n",
        "monthly_food_budget = daily_food_budget * 30\n",
        "\n",
        "# Set your monthly entertainment budget\n",
        "monthly_entertainment_budget = 200\n",
        "\n",
        "# Allocate funds for unforeseen expenses, just in case\n",
        "monthly_unforeseen_expenses = 250\n",
        "\n",
        "# Next, calculate your total monthly expenses\n",
        "monthly_expenses = monthly_rent + monthly_food_budget + monthly_entertainment_budget + monthly_unforeseen_expenses\n",
        "print(\"Monthly expenses: \" + str(round(monthly_expenses, 2)))\n",
        "\n",
        "# Finally, calculate your monthly take-home savings\n",
        "monthly_savings = monthly_takehome_salary - monthly_expenses\n",
        "print(\"Monthly savings: \" + str(round(monthly_savings, 2)))"
      ],
      "execution_count": 2,
      "outputs": [
        {
          "output_type": "stream",
          "text": [
            "Monthly expenses: 2550\n",
            "Monthly savings: 2408.33\n"
          ],
          "name": "stdout"
        }
      ]
    },
    {
      "cell_type": "markdown",
      "metadata": {
        "id": "fKJIxOEgVOdR",
        "colab_type": "text"
      },
      "source": [
        "Due to both inflation and increased productivity from experience, you can expect your salary to grow at different rates depending on your job. Now, since you are working in a growing and in-demand career field as a Data Scientist, you can assume a steady growth in your annual salary every year based on performance.\n",
        "\n",
        "You can assume an annual salary growth rate of 5%, which means if you start at $85,000 per year, you can expect to earn over $176,000 per year after 15 years. After taxes, assuming your tax rate hasn't changed, that works out to roughly $125,000 per year, which is not unreasonable for a Data Scientist. In fact, you might even make it to that level in a few years! But just to be safe, you should be conservative with your projections.\n",
        "\n",
        "For this application, assume all inflation and salary growth happens in smaller increments on a monthly basis instead of just one large increase at the end of each year.\n",
        "\n",
        "You will also assume your monthly expenses will rise by an average of 2.5% per year due to inflation. This will lead to higher cost of living over time, paying for the same expenses each year but at a higher price. Luckily, your salary is growing faster than inflation, which means you should have more money going into savings each month."
      ]
    },
    {
      "cell_type": "code",
      "metadata": {
        "id": "5Z_-Bh1jYdXs",
        "colab_type": "code",
        "colab": {
          "base_uri": "https://localhost:8080/",
          "height": 513
        },
        "outputId": "2d3fcd26-a1db-4d94-80c0-1d1cf8a3862e"
      },
      "source": [
        "import numpy as np\n",
        "import matplotlib.pyplot as plt\n",
        "\n",
        "# Create monthly forecasts up to 15 years from now\n",
        "forecast_months = 12*15\n",
        "\n",
        "# Set your annual salary growth rate\n",
        "annual_salary_growth = 0.05\n",
        "\n",
        "# Calculate your equivalent monthly salary growth rate\n",
        "monthly_salary_growth = (1+annual_salary_growth)**(1/12)-1\n",
        "\n",
        "# Forecast the cumulative growth of your salary\n",
        "cumulative_salary_growth_forecast = np.cumprod(np.repeat(1 + monthly_salary_growth, forecast_months))\n",
        "\n",
        "# Calculate the actual salary forecast\n",
        "salary_forecast = cumulative_salary_growth_forecast * monthly_takehome_salary\n",
        "\n",
        "# Plot the forecasted salary\n",
        "plt.plot(salary_forecast, color='blue')\n",
        "plt.show()\n",
        "\n",
        "# Set the annual inflation rate\n",
        "annual_inflation = 0.025\n",
        "\n",
        "# Calculate the equivalent monthly inflation rate\n",
        "monthly_inflation = (1+annual_inflation)**(1/12)-1\n",
        "\n",
        "# Forecast cumulative inflation over time\n",
        "cumulative_inflation_forecast = np.cumprod(np.repeat(1 + monthly_inflation, forecast_months))\n",
        "\n",
        "# Calculate your forecasted expenses\n",
        "expenses_forecast = cumulative_inflation_forecast * monthly_expenses\n",
        "\n",
        "# Plot the forecasted expenses\n",
        "plt.plot(expenses_forecast, color='red')\n",
        "plt.show()"
      ],
      "execution_count": 6,
      "outputs": [
        {
          "output_type": "display_data",
          "data": {
            "image/png": "[encoded data removed]",
            "text/plain": [
              "<Figure size 432x288 with 1 Axes>"
            ]
          },
          "metadata": {
            "tags": [],
            "needs_background": "light"
          }
        },
        {
          "output_type": "display_data",
          "data": {
            "image/png": "[encoded data removed]",
            "text/plain": [
              "<Figure size 432x288 with 1 Axes>"
            ]
          },
          "metadata": {
            "tags": [],
            "needs_background": "light"
          }
        }
      ]
    },
    {
      "cell_type": "markdown",
      "metadata": {
        "id": "grP-50JOZodz",
        "colab_type": "text"
      },
      "source": [
        "Now that you have forecasted your savings and salary over time while taking career progression and inflation into account, you have constructed a time-series which you can use to calculate your cash flows.\n",
        "\n",
        "For this example, all you need to do is subtract your forecasted monthly expenses from your forecasted monthly salary. The remaining cash flow will go straight into your savings account for each month.\n",
        "\n",
        "You want to project your cumulative savings over time to see how effective your budgeting process will be given your projections."
      ]
    },
    {
      "cell_type": "code",
      "metadata": {
        "id": "MUuY0t2AY6kr",
        "colab_type": "code",
        "colab": {
          "base_uri": "https://localhost:8080/",
          "height": 286
        },
        "outputId": "a32e3d32-6983-4ff9-ca73-8d1cf9d09ffa"
      },
      "source": [
        "# Calculate your savings for each month\n",
        "savings_forecast = salary_forecast - expenses_forecast\n",
        "\n",
        "# Calculate your cumulative savings over time\n",
        "cumulative_savings = np.cumsum(savings_forecast)\n",
        "\n",
        "# Print the final cumulative savings after 15 years\n",
        "final_net_worth = cumulative_savings[-1]\n",
        "print(\"Your final net worth: \" + str(round(final_net_worth, 2)))\n",
        "\n",
        "# Plot the forecasted savings\n",
        "plt.plot(cumulative_savings, color='blue')\n",
        "plt.show()"
      ],
      "execution_count": 7,
      "outputs": [
        {
          "output_type": "stream",
          "text": [
            "Your final net worth: 762318.83\n"
          ],
          "name": "stdout"
        },
        {
          "output_type": "display_data",
          "data": {
            "image/png": "[encoded data removed]",
            "text/plain": [
              "<Figure size 432x288 with 1 Axes>"
            ]
          },
          "metadata": {
            "tags": [],
            "needs_background": "light"
          }
        }
      ]
    },
    {
      "cell_type": "markdown",
      "metadata": {
        "id": "w_nz781SaHg4",
        "colab_type": "text"
      },
      "source": [
        "Your projections show that you can accumulate over $700,000 in just 15 years by following a strict budget and growing your salary steadily over time.\n",
        "\n",
        "But you want to be a millionaire in 15 years, retire young, sip margaritas and travel for the rest of your life. In order to do that, you're going to need to invest.\n",
        "\n",
        "Remember the .pmt() function from numpy? You can use this function to calculate how much you need to save each month in order to accumulate your desired wealth over time.\n",
        "\n",
        "You still have a lot to learn about the stock market, but your financial advisor told you that you can earn anywhere from 5-10% per year on your capital on average by investing in a low cost index fund.\n",
        "\n",
        "You know that the stock market doesn't always go up, but you will assume a modest 7% return per year, which has been the average annual return in the US stock market from 1950-2009."
      ]
    },
    {
      "cell_type": "code",
      "metadata": {
        "id": "ln1x7_vOaJKx",
        "colab_type": "code",
        "colab": {
          "base_uri": "https://localhost:8080/",
          "height": 88
        },
        "outputId": "4ff8c346-433b-40b2-f5df-5d153d2bcba1"
      },
      "source": [
        "# Set the annual investment return to 7%\n",
        "investment_rate_annual = 0.07\n",
        "\n",
        "# Calculate the monthly investment return\n",
        "investment_rate_monthly = (1+investment_rate_annual)**(1/12)-1\n",
        "\n",
        "# Calculate your required monthly investment to amass $1M\n",
        "required_investment_monthly = np.pmt(rate=investment_rate_monthly, nper=12*15, pv=0, fv=-1000000)\n",
        "print(\"You will have to invest $\" + str(round(required_investment_monthly, 2)) + \" per month to amass $1M over 15 years\")"
      ],
      "execution_count": 8,
      "outputs": [
        {
          "output_type": "stream",
          "text": [
            "You will have to invest $3214.35 per month to amass $1M over 15 years\n"
          ],
          "name": "stdout"
        },
        {
          "output_type": "stream",
          "text": [
            "/usr/local/lib/python3.6/dist-packages/ipykernel_launcher.py:8: DeprecationWarning: numpy.pmt is deprecated and will be removed from NumPy 1.20. Use numpy_financial.pmt instead (https://pypi.org/project/numpy-financial/).\n",
            "  \n"
          ],
          "name": "stderr"
        }
      ]
    },
    {
      "cell_type": "markdown",
      "metadata": {
        "id": "5duMJhCbcm42",
        "colab_type": "text"
      },
      "source": [
        "Unfortunately, you really can't afford to save \\$3,000 per month in order to amass \\$1,000,000 after only 15 years.\n",
        "\n",
        "But what you can do is start slowly, investing a small percentage of your take-home income each month, which should grow over time as your income grows as well."
      ]
    },
    {
      "cell_type": "code",
      "metadata": {
        "id": "08eZCRISciTa",
        "colab_type": "code",
        "colab": {
          "base_uri": "https://localhost:8080/",
          "height": 265
        },
        "outputId": "ac71263e-08cd-4321-cccf-1c418146a032"
      },
      "source": [
        "# Calculate your monthly deposit into your investment account\n",
        "cash_flow_forecast = salary_forecast - expenses_forecast\n",
        "monthly_investment_percentage = 0.30\n",
        "investment_deposit_forecast = cash_flow_forecast * monthly_investment_percentage\n",
        "\n",
        "# The rest goes into your savings account\n",
        "savings_forecast_new = cash_flow_forecast * (1-monthly_investment_percentage)\n",
        "\n",
        "# Calculate your cumulative savings over time\n",
        "cumulative_savings_new = np.cumsum(savings_forecast_new)\n",
        "\n",
        "# Plot your forecasted monthly savings vs investments\n",
        "plt.plot(investment_deposit_forecast, color='red')\n",
        "plt.plot(savings_forecast_new, color='blue')\n",
        "plt.legend(['investments_plot', 'savings_plot'])\n",
        "plt.show()"
      ],
      "execution_count": 10,
      "outputs": [
        {
          "output_type": "display_data",
          "data": {
            "image/png": "[encoded data removed]",
            "text/plain": [
              "<Figure size 432x288 with 1 Axes>"
            ]
          },
          "metadata": {
            "tags": [],
            "needs_background": "light"
          }
        }
      ]
    },
    {
      "cell_type": "markdown",
      "metadata": {
        "id": "RAphqlbfdkxT",
        "colab_type": "text"
      },
      "source": [
        "To finish up your investment simulation, you will need to loop through each time period, calculate the growth of any investments you have already made, add your new monthly deposit, and calculate your net worth at each point in time."
      ]
    },
    {
      "cell_type": "code",
      "metadata": {
        "id": "Xer5IY61devQ",
        "colab_type": "code",
        "colab": {}
      },
      "source": [
        "investment_portfolio = np.zeros(forecast_months)\n",
        "net_worth = np.zeros(forecast_months)\n",
        "\n",
        "# Loop through each forecast period\n",
        "for i in range(forecast_months):\n",
        "    \n",
        "    # Find the previous investment deposit amount\n",
        "    if i == 0: \n",
        "        previous_investment = 0\n",
        "    else:\n",
        "        previous_investment = investment_portfolio[i-1]\n",
        "        \n",
        "    # Calculate the value of your previous investments, which have grown\n",
        "    previous_investment_growth = previous_investment*(1 + investment_rate_monthly)\n",
        "    \n",
        "    # Add your new deposit to your investment portfolio\n",
        "    investment_portfolio[i] =  previous_investment_growth + investment_deposit_forecast[i]\n",
        "    \n",
        "    # Calculate your net worth at each point in time\n",
        "    net_worth[i] = cumulative_savings_new[i] + investment_portfolio[i]"
      ],
      "execution_count": 11,
      "outputs": []
    }
  ]
}
